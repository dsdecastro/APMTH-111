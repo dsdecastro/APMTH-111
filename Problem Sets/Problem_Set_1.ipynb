{
  "nbformat": 4,
  "nbformat_minor": 0,
  "metadata": {
    "colab": {
      "name": "Problem Set 1.ipynb",
      "provenance": [],
      "collapsed_sections": [
        "Bq2u8eHDpNVH",
        "kM830hZ3ZLGI"
      ]
    },
    "kernelspec": {
      "name": "python3",
      "display_name": "Python 3"
    },
    "language_info": {
      "name": "python"
    }
  },
  "cells": [
    {
      "cell_type": "markdown",
      "metadata": {
        "id": "Q8oTGLS-pCMC"
      },
      "source": [
        "# Problem Set 1\n",
        "\n",
        "Daniel de Castro\n",
        "\n",
        "dsdecastro@college.harvard.edu\n",
        "\n",
        "September 17, 2021"
      ]
    },
    {
      "cell_type": "markdown",
      "metadata": {
        "id": "Bq2u8eHDpNVH"
      },
      "source": [
        "# Problem 1"
      ]
    },
    {
      "cell_type": "code",
      "metadata": {
        "colab": {
          "base_uri": "https://localhost:8080/",
          "height": 297
        },
        "id": "UyJXgXf9peI9",
        "outputId": "446910b3-1c0a-48bc-fcef-fa8277c8aaa3"
      },
      "source": [
        "# Parts A through D included in this code block\n",
        "# For this problem, I referenced the matplotlib documentation on subplots (https://matplotlib.org/stable/api/_as_gen/matplotlib.pyplot.subplots.html)\n",
        "\n",
        "import numpy as np\n",
        "import matplotlib.pyplot as plt\n",
        "\n",
        "# Create the subplot\n",
        "fig, ax = plt.subplots(2, 2)\n",
        "\n",
        "# Part A\n",
        "\n",
        "# Create a range for the function, [-3, 3] with interval of 0.1\n",
        "x_a = np.arange(-3, 3, 0.1)\n",
        "\n",
        "# Define the equation\n",
        "eq_a = np.abs(x_a - 1)\n",
        "\n",
        "# Display Part A\n",
        "ax[0, 0].plot(x_a, eq_a, color=\"blue\", marker=None, linestyle=\"solid\")\n",
        "\n",
        "# Part B\n",
        "\n",
        "# Create a range and define the equation\n",
        "x_b = np.arange(-4, 4, 0.1)\n",
        "eq_b = np.sqrt(np.abs(x_b))\n",
        "\n",
        "# Display Part B\n",
        "ax[0, 1].plot(x_b, eq_b, color=\"red\", marker=None, linestyle=\"solid\")\n",
        "\n",
        "# Part C\n",
        "\n",
        "# Define the equation using the same range as Part B\n",
        "eq_c = np.exp(-(x_b**2))\n",
        "\n",
        "# Display Part C\n",
        "ax[1, 0].plot(x_b, eq_c, color=\"green\", marker=None, linestyle=\"solid\")\n",
        "\n",
        "# Part D\n",
        "\n",
        "# Create a range and define the equation\n",
        "x_d = np.arange(-2, 2, 0.1)\n",
        "eq_d = (lambda x : 1 / (10 * x**2 + 1))(x_d)\n",
        "\n",
        "# Display Part D\n",
        "ax[1, 1].plot(x_d, eq_d, color=\"purple\", marker=None, linestyle=\"solid\")\n",
        "\n",
        "# Add Titles and Axes Labels, and Set Layout\n",
        "ax[0, 0].set_title(\"Part A\")\n",
        "ax[0, 1].set_title(\"Part B\")\n",
        "ax[1, 0].set_title(\"Part C\")\n",
        "ax[1, 1].set_title(\"Part D\")\n",
        "\n",
        "for i in range(2):\n",
        "  for j in range(2):\n",
        "    ax[i, j].set_xlabel(\"x\")\n",
        "    ax[i, j].set_ylabel(\"y\")\n",
        "\n",
        "fig.tight_layout()\n"
      ],
      "execution_count": 2,
      "outputs": [
        {
          "output_type": "display_data",
          "data": {
            "image/png": "[encoded data removed]",
            "text/plain": [
              "<Figure size 432x288 with 4 Axes>"
            ]
          },
          "metadata": {
            "needs_background": "light"
          }
        }
      ]
    },
    {
      "cell_type": "markdown",
      "metadata": {
        "id": "QXCSrxZVxZNP"
      },
      "source": [
        "# Problem 2"
      ]
    },
    {
      "cell_type": "markdown",
      "metadata": {
        "id": "wTZ00RUqWPy5"
      },
      "source": [
        "## Part (A)"
      ]
    },
    {
      "cell_type": "code",
      "metadata": {
        "colab": {
          "base_uri": "https://localhost:8080/"
        },
        "id": "_-f80BFHxdFP",
        "outputId": "16eb78dd-3678-4efa-da27-c7fc4f69507b"
      },
      "source": [
        "import numpy as np\n",
        "import matplotlib.pyplot as plt\n",
        "\n",
        "# Define A, B, v, and w\n",
        "A = np.array([[1, 3, 9], \n",
        "              [4, -5, 7],\n",
        "              [6, 2, 1]])\n",
        "B = np.array([[1, 8, 1],\n",
        "              [10, 2, 4],\n",
        "              [2, 5, 2]])\n",
        "v = np.array([[10],\n",
        "              [8],\n",
        "              [2]])\n",
        "w = np.array([[1],\n",
        "              [1],\n",
        "              [4]])\n",
        "\n",
        "# i\n",
        "# Compute v-transpose * w\n",
        "product = 0\n",
        "for i in range(3):\n",
        "  product += v[i] * w[i]\n",
        "\n",
        "print(\"v-transpose * w = \", product)\n",
        "\n",
        "# Compute v * w-transpose\n",
        "product = np.zeros([3, 3], dtype=int)\n",
        "for i in range(3):\n",
        "  for j in range(3):\n",
        "    product[i, j] = v[i] * w[j]\n",
        "\n",
        "print(\"v * w-transpose = \\n\", product)\n",
        "\n",
        "# Compute Av\n",
        "product = np.zeros([3, 1], dtype=int)\n",
        "for i in range(len(A)):\n",
        "  for j in range(len(A[i])):\n",
        "    product[i] += v[j] * A[i, j]\n",
        "\n",
        "print(\"Av = \\n\", product)\n",
        "\n",
        "# Compute AB\n",
        "product = np.zeros([3, 3], dtype=int)\n",
        "for a in range(3):\n",
        "  for b in range(3):\n",
        "    for x in range(3):\n",
        "      product[a, b] += A[a, x] * B[x, b]\n",
        "\n",
        "print(\"AB = \\n\", product)\n",
        "\n",
        "\n",
        "# ii\n",
        "# Set largest element to first element in A, and set location accordingly\n",
        "highest = A[0, 0]\n",
        "location_h = [0, 0]\n",
        "\n",
        "# Loop through A; if the current element is greater than the largest yet recorded, \n",
        "# set this element as the largest, and set location to its coordinates\n",
        "for i in range(len(A)):\n",
        "  for j in range(len(A[i])):\n",
        "    if A[i, j] > highest:\n",
        "      highest = A[i, j]\n",
        "      location_h = [i, j]\n",
        "\n",
        "print(\"Largest element in A: \" + str(highest))\n",
        "print(\"Location of largest element: (\" + str(location_h[0]) + \", \" + str(location_h[1]) + \")\")\n",
        "\n",
        "# iii\n",
        "# Set largest element to first element in A, and set location accordingly\n",
        "lowest = A[0, 0]\n",
        "location_l = [0, 0]\n",
        "\n",
        "# Loop through A; if the current element is less than the lowest yet recorded, \n",
        "# set this element as the lowest, and set location to its coordinates\n",
        "for i in range(len(A)):\n",
        "  for j in range(len(A[i])):\n",
        "    if A[i, j] < highest:\n",
        "      highest = A[i, j]\n",
        "      location_l = [i, j]\n",
        "\n",
        "print(\"Largest element in A: \" + str(highest))\n",
        "print(\"Location of smallest element: (\" + str(location_l[0]) + \", \" + str(location_l[1]) + \")\")"
      ],
      "execution_count": 3,
      "outputs": [
        {
          "output_type": "stream",
          "name": "stdout",
          "text": [
            "v-transpose * w =  [26]\n",
            "v * w-transpose = \n",
            " [[10 10 40]\n",
            " [ 8  8 32]\n",
            " [ 2  2  8]]\n",
            "Av = \n",
            " [[52]\n",
            " [14]\n",
            " [78]]\n",
            "AB = \n",
            " [[ 49  59  31]\n",
            " [-32  57  -2]\n",
            " [ 28  57  16]]\n",
            "Largest element in A: 9\n",
            "Location of largest element: (0, 2)\n",
            "Largest element in A: -5\n",
            "Location of largest element: (1, 1)\n"
          ]
        }
      ]
    },
    {
      "cell_type": "markdown",
      "metadata": {
        "id": "dLKT3qq2WUWr"
      },
      "source": [
        "## Part (B)"
      ]
    },
    {
      "cell_type": "code",
      "metadata": {
        "colab": {
          "base_uri": "https://localhost:8080/"
        },
        "id": "hO-chvvFyYXQ",
        "outputId": "201d5c50-d6f0-4b47-c9b3-8af0fe4e7776"
      },
      "source": [
        "import numpy as np\n",
        "\n",
        "# Define A, B, v, and w\n",
        "A = np.array([[1, 3, 9], \n",
        "              [4, -5, 7],\n",
        "              [6, 2, 1]])\n",
        "B = np.array([[1, 8, 1],\n",
        "              [10, 2, 4],\n",
        "              [2, 5, 2]])\n",
        "v = np.array([[10],\n",
        "              [8],\n",
        "              [2]])\n",
        "w = np.array([[1],\n",
        "              [1],\n",
        "              [4]])\n",
        "\n",
        "# i \n",
        "\n",
        "print(\"v-transpose * w = \", np.dot(np.transpose(v), w))\n",
        "print(\"v * w-transpose = \\n\", np.dot(v, np.transpose(w)))\n",
        "print(\"Av = \\n\", np.dot(A, v))\n",
        "print(\"A-tranpose * v = \\n\", np.dot(np.transpose(A), v))\n",
        "print(\"A^2 = AA = \\n\", np.dot(A, A))\n",
        "print(\"AB = \\n\", np.dot(A, B))\n",
        "print(\"BA = \\n\", np.dot(B, A))\n",
        "\n",
        "# ii \n",
        "\n",
        "largest = np.amax(A)\n",
        "loc_largest = np.where(A == largest)\n",
        "print(\"Largest element in A: \", largest)\n",
        "print(\"Location of largest element: \" + str(loc_largest[0][0]) + \", \" + str(loc_largest[1][0]))\n",
        "\n",
        "# iii\n",
        "\n",
        "smallest = np.amin(A)\n",
        "loc_smallest = np.where(A == smallest)\n",
        "print(\"Smallest element in A: \", smallest)\n",
        "print(\"Location of smallest element: \" + str(loc_smallest[0][0]) + \", \" + str(loc_smallest[1][0]))"
      ],
      "execution_count": 16,
      "outputs": [
        {
          "output_type": "stream",
          "name": "stdout",
          "text": [
            "v-transpose * w =  [[26]]\n",
            "v * w-transpose = \n",
            " [[10 10 40]\n",
            " [ 8  8 32]\n",
            " [ 2  2  8]]\n",
            "Av = \n",
            " [[52]\n",
            " [14]\n",
            " [78]]\n",
            "A-tranpose * v = \n",
            " [[ 54]\n",
            " [ -6]\n",
            " [148]]\n",
            "A^2 = AA = \n",
            " [[67  6 39]\n",
            " [26 51  8]\n",
            " [20 10 69]]\n",
            "AB = \n",
            " [[ 49  59  31]\n",
            " [-32  57  -2]\n",
            " [ 28  57  16]]\n",
            "BA = \n",
            " [[ 39 -35  66]\n",
            " [ 42  28 108]\n",
            " [ 34 -15  55]]\n",
            "Largest element in A:  9\n",
            "Location of largest element: 0, 2\n",
            "Smallest element in A:  -5\n",
            "Location of smallest element: 1, 1\n"
          ]
        }
      ]
    },
    {
      "cell_type": "markdown",
      "metadata": {
        "id": "kM830hZ3ZLGI"
      },
      "source": [
        "# Problem 3"
      ]
    },
    {
      "cell_type": "code",
      "metadata": {
        "colab": {
          "base_uri": "https://localhost:8080/"
        },
        "id": "N2GPvW4mZOGY",
        "outputId": "e8aa3651-fe20-404f-b612-1633b70889cf"
      },
      "source": [
        "import numpy as np\n",
        "\n",
        "# Given\n",
        "L=[('ball', 2.,'red'), ('ball', 12.,'blue'), ('ball', 4.5,'red'), ('ball', 3.5,'blue'), ('ball', 5,'red'),('cube', 6.,'blue'), ('ball', 8.,'red'), ('ball', 10.,'blue'),('cube', 1.,'red'), ('ball', 9.,'red'),('cube', 4.,'blue'), ('ball', 7.,'red')]\n",
        "\n",
        "# Part (A)\n",
        "\n",
        "print(\"Total number of objects: \", len(L))\n",
        "\n",
        "# Part (B)\n",
        "\n",
        "# Here, I chose not to just stipulate that the number of blue objects is the \n",
        "# total number of objects minus the red objects to allow for the possibility that objects\n",
        "# that are neither red nor blue are added to the list L\n",
        "red = 0\n",
        "blue = 0\n",
        "for obj in L:\n",
        "  if obj[2] == \"red\":\n",
        "    red += 1\n",
        "  elif obj[2] == \"blue\":\n",
        "    blue += 1\n",
        "\n",
        "print(\"Total number of red objects: \", red)\n",
        "print(\"Total number of blue objects: \", blue)\n",
        "\n",
        "# Part (C)\n",
        "\n",
        "def radToVol(radius):\n",
        "  return (radius, 4/3 * np.pi * radius**3)\n",
        "\n",
        "# Part (D)\n",
        "\n",
        "listOfVolumes = []\n",
        "\n",
        "for obj in L:\n",
        "  if obj[0] == \"ball\" and obj[1] > 5. and obj[2] == \"red\":\n",
        "    listOfVolumes.append(radToVol(obj[1]))\n",
        "\n",
        "print(listOfVolumes)"
      ],
      "execution_count": 18,
      "outputs": [
        {
          "output_type": "stream",
          "name": "stdout",
          "text": [
            "Total number of objects:  12\n",
            "Total number of red objects:  7\n",
            "Total number of blue objects:  5\n",
            "[(8.0, 2144.660584850632), (9.0, 3053.6280592892786), (7.0, 1436.7550402417319)]\n"
          ]
        }
      ]
    }
  ]
}