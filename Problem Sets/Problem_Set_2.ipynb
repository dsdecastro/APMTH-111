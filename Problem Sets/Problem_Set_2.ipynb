{
  "nbformat": 4,
  "nbformat_minor": 0,
  "metadata": {
    "colab": {
      "name": "Problem Set 2.ipynb",
      "provenance": [],
      "collapsed_sections": [
        "RoXN_v5u9uqL"
      ]
    },
    "kernelspec": {
      "name": "python3",
      "display_name": "Python 3"
    },
    "language_info": {
      "name": "python"
    }
  },
  "cells": [
    {
      "cell_type": "markdown",
      "metadata": {
        "id": "XshVEhYLxJbI"
      },
      "source": [
        "# **Problem Set 2**\n",
        "\n",
        "*Daniel de Castro*\n",
        "\n",
        "*APMTH 111*\n",
        "\n",
        "*September 23, 2021*"
      ]
    },
    {
      "cell_type": "markdown",
      "metadata": {
        "id": "apAv9aA7lnRq"
      },
      "source": [
        "# Problem 1"
      ]
    },
    {
      "cell_type": "markdown",
      "metadata": {
        "id": "UeiJwmMrtuR8"
      },
      "source": [
        "## Part (A)\n",
        "For a given n-vector $v$,\n",
        "$$||v||_\\infty = max_{1<i<n}|v_i|$$\n",
        "\n",
        "that is, the absolute value of largest of the components of $v$. In addition, \n",
        "$$||v||_2 = \\sqrt{\\sum_{i=1}^{n}|v_i|^2}$$\n",
        "\n",
        "Now, let $v_L$ be the component of $v$ with the largest magnitude. Then we can see that $||v||_\\infty \\leq ||v||_2 \\leq \\sqrt{n}||v||_\\infty$ indeed holds true:\n",
        "$$||v||_\\infty \\leq ||v||_2\\leq \\sqrt{n}||v||_\\infty$$\n",
        "$$|v_L| \\leq \\sqrt{|v_1|^2 + |v_2|^2 + . . . + |v_L|^2 . . . + |v_n|^2} \\leq \\sqrt{n}|v_L|$$\n",
        "$$|v_L|^2 \\leq |v_1|^2 + |v_2|^2 + . . . + |v_L|^2 . . . + |v_n|^2 \\leq n|v_l|^2$$\n",
        "$$0 \\leq |v_1|^2 + |v_2|^2 + . . . + |v_n|^2 \\leq (n-1)|v_l|^2$$\n",
        "(Note that the middle term in this last inequality is the sum of the squares $n-1$ terms less than or equal to $|v_L|$.)\n",
        "\n",
        "The vector $v = \\begin{bmatrix} 1 \\end{bmatrix}$ is a vector in $\\mathbb{R}$ for which equality $||v||_\\infty = ||v||_2 = \\sqrt{n}||v||_\\infty$ holds.\n",
        "\n",
        "## Part (B)\n",
        "By definition, \n",
        "$$||v||_1 = \\sum_{i=1}^{n}|v_i|$$\n",
        "and\n",
        "$$||v||_2 = \\sqrt{\\sum_{i=1}^{n}|v_i|^2}$$\n",
        "\n",
        "Thus, \n",
        "$$||v||_2 \\leq ||v||_1$$\n",
        "$$\\sqrt{\\sum_{i=1}^{n}|v_i|^2} \\leq \\sum_{i=1}^{n}|v_i|$$\n",
        "$$\\sqrt{|v_1|^2 + |v_2|^2 + . . . + |v_n|^2} \\leq |v_1| + |v_2| + . . . + |v_n|$$\n",
        "$$|v_1|^2 + |v_2|^2 + . . . + |v_n|^2 \\leq (|v_1| + |v_2| + . . . + |v_n|)^2$$\n",
        "$$|v_1|^2 + |v_2|^2 + . . . + |v_n|^2 \\leq |v_1|^2 + 2|v_1||v_2| + . . . + 2|v_1||v_n| + |v_2|^2 + 2|v_2||v_3| + . . . + 2|v_{n-1}||v_n| + |v_n|^2$$\n",
        "$$0 \\leq 2|v_1||v_2| + . . . + 2|v_1||v_n| + 2|v_2||v_3| + . . . + 2|v_2||v_n| + 2|v_3||v_4| + . . .$$\n",
        "\n",
        "The vector $v = \\begin{bmatrix} 1 \\\\ 0 \\\\ 0 \\end{bmatrix}$ is a vector in $\\mathbb{R}^3$ for which equality $||v||_2 = ||v||_1$ holds.\n",
        "\n",
        "## Part (C)\n",
        "By definition, \n",
        "$$||v||_1 = \\sum_{i=1}^{n}|v_i|$$\n",
        "and\n",
        "$$||v||_\\infty = max_{1<i<n}|v_i|$$\n",
        "\n",
        "Let $v_L$ be the component of $v$ with the largest magnitude. Then we can see that $||v||_1 \\leq n||v||_\\infty$ indeed holds true:\n",
        "\n",
        "$$||v||_1 \\leq n||v||_\\infty$$\n",
        "$$\\sum_{i=1}^{n}|v_i| \\leq n \\cdot max_{1<i<n}|v_i|$$\n",
        "$$|v_1| + |v_2| + . . . + |v_L| + . . . + |v_n| \\leq n|v_L|$$\n",
        "$$|v_1| + |v_2| + . . . + |v_n| \\leq (n-1)|v_L|$$\n",
        "\n",
        "Here, the left side of the inequality is the sum of the magnitudes of $n-1$ components, each of which has a magnitude less than or equal to that of $|v_l|$. Clearly, then, the inequality holds true. \n",
        "\n",
        "The vector $v = \\begin{bmatrix} 1 \\\\ 1 \\\\ 1 \\end{bmatrix}$ is a vector in $\\mathbb{R}^3$ for which equality $||v||_1 = n||v||_\\infty$ holds.\n",
        "\n",
        "\n",
        "\n",
        "\n",
        "\n",
        "\n",
        "\n",
        "(I inserted this line to fix a problem with the document spacing when it is saved as a PDF.)"
      ]
    },
    {
      "cell_type": "markdown",
      "metadata": {
        "id": "RoXN_v5u9uqL"
      },
      "source": [
        "# Problem 2"
      ]
    },
    {
      "cell_type": "markdown",
      "metadata": {
        "id": "TDpz6GBV9yES"
      },
      "source": [
        "## Part A"
      ]
    },
    {
      "cell_type": "code",
      "metadata": {
        "id": "c8uHmLwy9trh",
        "colab": {
          "base_uri": "https://localhost:8080/",
          "height": 0
        },
        "outputId": "b999fcb7-71c3-456e-971c-7677a3743bb0"
      },
      "source": [
        "import numpy as np\n",
        "\n",
        "# Define A and calculate A_inv\n",
        "A = np.array([[2, 5, 6], [1, 6, 2],[3, 1, 4]])\n",
        "A_inv = np.linalg.inv(A)\n",
        "\n",
        "# Calculate the condition number with the 1-norm\n",
        "\n",
        "# Create a function to calculate the one-norm of a matrix\n",
        "def one_norm(B):\n",
        "  column_sums = np.zeros([len(B[0])])\n",
        "  for row in B:\n",
        "    for j in range(len(row)):\n",
        "      column_sums[j] += np.abs(row[j])\n",
        "  \n",
        "  return np.max(column_sums)\n",
        "\n",
        "print(\"one-norm conditioning number: \", \"{:.3f}\".format(one_norm(A) * one_norm(A_inv)))\n",
        "\n",
        "# Calculate the condition number with the 2-norm \n",
        "\n",
        "# Create a function to calculate the infinity-norm of a matrix\n",
        "def inf_norm(A):\n",
        "  row_sums = np.zeros(len(A))\n",
        "  for i in range(len(A)):\n",
        "    for cell in A[i]:\n",
        "      row_sums[i] += np.abs(cell)\n",
        "  \n",
        "  return np.max(row_sums)\n",
        "\n",
        "print(\"infinity-norm conditioning number: \", \"{:.3f}\".format(inf_norm(A) * inf_norm(A_inv)))\n",
        "\n",
        "# Calculate the condition number with Frobenius' norm\n",
        "\n",
        "# Create a function to calculate Frobenius' norm\n",
        "def fro_norm(A):\n",
        "  sum = 0\n",
        "  for row in A:\n",
        "    for cell in row:\n",
        "      sum += cell**2\n",
        "  \n",
        "  return np.sqrt(sum)\n",
        "\n",
        "print(\"Frobenius' norm conditioning number: \", \"{:.3f}\".format(fro_norm(A) * fro_norm(A_inv)))"
      ],
      "execution_count": 1,
      "outputs": [
        {
          "output_type": "stream",
          "name": "stdout",
          "text": [
            "one-norm conditioning number:  10.250\n",
            "infinity-norm conditioning number:  16.792\n",
            "Frobenius' norm conditioning number:  10.626\n"
          ]
        }
      ]
    },
    {
      "cell_type": "markdown",
      "metadata": {
        "id": "QuNxAsiSBFyf"
      },
      "source": [
        "With the code above, I calculated the conditioning numbers to be as follows: \n",
        "\n",
        "1-norm: K(A) = 10.25\n",
        "\n",
        "infinite-norm: K(A) = 16.792\n",
        "\n",
        "Frobenius' norm: K(A) = 10.626"
      ]
    },
    {
      "cell_type": "markdown",
      "metadata": {
        "id": "D0jylH2YBb2j"
      },
      "source": [
        "## Part B"
      ]
    },
    {
      "cell_type": "code",
      "metadata": {
        "id": "cFVXNJjq-GGw",
        "colab": {
          "base_uri": "https://localhost:8080/",
          "height": 0
        },
        "outputId": "a42a1fd0-8c1d-4aef-bc90-8d2983166f5e"
      },
      "source": [
        "import numpy as np\n",
        "\n",
        "# Define A and calculate A_inv\n",
        "A = np.array([[2, 5, 6], [1, 6, 2],[3, 1, 4]])\n",
        "A_inv = np.linalg.inv(A)\n",
        "\n",
        "# Part i \n",
        "one_norm = np.linalg.norm(A, ord=1)\n",
        "print(\"one-norm of A:\", one_norm)\n",
        "\n",
        "inf_norm = np.linalg.norm(A, ord=np.inf)\n",
        "print(\"infinite-norm of A:\", inf_norm)\n",
        "\n",
        "fro_norm = np.linalg.norm(A, ord='fro')\n",
        "print(\"Frobenius' norm of A:\", \"{:.3f}\".format(fro_norm))\n",
        "\n",
        "# Part ii\n",
        "print(\"one-norm conditioning number of A:\", \"{:.3f}\".format(np.linalg.cond(A, p=1)))\n",
        "print(\"infinity-norm conditioning number of A:\", \"{:.3f}\".format(np.linalg.cond(A, p=np.inf)))\n",
        "print(\"Frobenius' norm conditioning number of A:\", \"{:.3f}\".format(np.linalg.cond(A, p='fro')))"
      ],
      "execution_count": 8,
      "outputs": [
        {
          "output_type": "stream",
          "name": "stdout",
          "text": [
            "one-norm of A: 12.0\n",
            "infinite-norm of A: 13.0\n",
            "Frobenius' norm of A: 11.489\n",
            "one-norm conditioning number of A: 10.250\n",
            "infinity-norm conditioning number of A: 16.792\n",
            "Frobenius' norm conditioning number of A: 10.626\n"
          ]
        }
      ]
    },
    {
      "cell_type": "markdown",
      "metadata": {
        "id": "VGfWW7VNfgsa"
      },
      "source": [
        "With the code above, I obtained the following results: \n",
        "\n",
        "one-norm of A: 12.0\n",
        "\n",
        "infinite-norm of A: 13.0\n",
        "\n",
        "Frobenius' norm of A: 11.489\n",
        "\n",
        "one-norm conditioning number of A: 10.250\n",
        "\n",
        "infinity-norm conditioning number of A: 16.792\n",
        "\n",
        "Frobenius' norm conditioning number of A: 10.626"
      ]
    },
    {
      "cell_type": "markdown",
      "metadata": {
        "id": "5YqDgVNMf06a"
      },
      "source": [
        "# Problem 3"
      ]
    },
    {
      "cell_type": "markdown",
      "metadata": {
        "id": "p14uW9c-f2zE"
      },
      "source": [
        "## Part A\n",
        "\n",
        "1-norm $K(A) = 3$\n",
        "        \n",
        "$\\infty$-norm $K(A) = 3$\n",
        "\n",
        "(See calculations below.)"
      ]
    },
    {
      "cell_type": "code",
      "metadata": {
        "colab": {
          "base_uri": "https://localhost:8080/",
          "height": 0
        },
        "id": "S87nhHtbf4K7",
        "outputId": "c0d1822e-0688-44dc-f459-1925033418df"
      },
      "source": [
        "import numpy as np\n",
        "\n",
        "# Define A and calculate A_inv\n",
        "A = np.array([[1, -1], [2, 2]])\n",
        "A_inv = np.linalg.inv(A)\n",
        "\n",
        "# 1-norm calculations\n",
        "print(\"1-norm K(A) =\", \"{:.3f}\".format(np.linalg.cond(A, p=1)))\n",
        "\n",
        "# inf-norm calculations\n",
        "print(\"infinite-norm K(A) =\", \"{:.3f}\".format(np.linalg.cond(A, p=np.inf)))"
      ],
      "execution_count": 9,
      "outputs": [
        {
          "output_type": "stream",
          "name": "stdout",
          "text": [
            "1-norm K(A) = 3.000\n",
            "infinite-norm K(A) = 3.000\n"
          ]
        }
      ]
    },
    {
      "cell_type": "markdown",
      "metadata": {
        "id": "AeLWNV7Mvvhk"
      },
      "source": [
        "## Part (B)\n",
        "Given an $m \\times n$ matrix $A$, the 1-norm and $\\infty$-norm are defined as\n",
        "$$||A||_1 = max_{1<j<n}\\sum_{i=1}^{m}|A_{ij}|$$\n",
        "and\n",
        "$$||A||_\\infty = max_{1<i<m}\\sum_{j=1}^{n}|A_{ij}|$$\n",
        "\n",
        "Let $A$ be the following $2\\times2$ matrix\n",
        "$$A = \\begin{bmatrix} a & b \\\\ c & d \\end{bmatrix}$$\n",
        "\n",
        "and let $A^{-1}$ be its inverse. $A^{-1}$ can be written as\n",
        "$$A^{-1} = \\frac{1}{det(A)} \\begin{bmatrix} d & -b \\\\ -c & a \\end{bmatrix} = \\frac{1}{ad - bc} \\begin{bmatrix} d & -b \\\\ -c & a \\end{bmatrix}$$\n",
        "\n",
        "Now, let's calculate the condition number $K(A)$ with the 1-norm. \n",
        "$$K_1(A) = ||A||_1 \\cdot ||A^{-1}||_1$$\n",
        "$$K_1(A) = max_{1<j<2}\\sum_{i=1}^{2}|A_{ij}| \\cdot max_{1<j<2}\\sum_{i=1}^{2}|A^{-1}_{ij}|$$\n",
        "$$K_1(A) = max\\{a + c, b + d\\} \\cdot max\\{\\frac{c + d}{ad - bc}, \\frac{a + b}{ad - bc}\\}$$\n",
        "$$K_1(A) = max\\{a + c, b + d\\} \\cdot max\\{a + b, c + d\\} \\cdot \\frac{1}{ad - bc}$$\n",
        "\n",
        "In doing the same for the $\\infty$-norm, we find\n",
        "$$K_\\infty(A) = ||A||_\\infty \\cdot ||A^{-1}||_\\infty$$\n",
        "$$K_\\infty(A) = max_{1<i<2}\\sum_{j=1}^{2}|A_{ij}| \\cdot max_{1<i<2}\\sum_{j=1}^{2}|A^{-1}_{ij}|$$\n",
        "$$K_\\infty(A) = max\\{a + b, c + d\\} \\cdot max\\{\\frac{b + d}{ad - bc}, \\frac{a + c}{ad - bc}\\}$$\n",
        "$$K_\\infty(A) = max\\{a + b, c + d\\} \\cdot max\\{a + c, b + d\\} \\cdot \\frac{1}{ad - bc}$$\n",
        "\n",
        "Thus, \n",
        "$$K_1(A) = K_\\infty(A)$$\n",
        "\n",
        "(Line inserted to fix spacing problem when saving as PDF.)"
      ]
    },
    {
      "cell_type": "markdown",
      "metadata": {
        "id": "Wi4SCBPAwCN2"
      },
      "source": [
        "# Problem 4"
      ]
    },
    {
      "cell_type": "markdown",
      "metadata": {
        "id": "8SGigkRRwFQ4"
      },
      "source": [
        "## Part (A)\n",
        "The Frobenius norm of an $m \\times n$ matrix $A$ can be written as \n",
        "$$||A||_F = \\sqrt{ \\sum_{i=1}^{m}\\sum_{j=1}^{n}|A_{ij}|^2 }$$\n",
        "\n",
        "We claim that \n",
        "$$||A||_F = \\sqrt{ \\sum_{i=1}^{m}\\sum_{j=1}^{n}|A_{ij}|^2 } = \\sqrt{ Tr(A^T A) }$$\n",
        "\n",
        "Consider first the matrix $A^T A$. The components that lie along the main diagonal of $A^T A$ represent the scalar product of one column of $A$ with itself. For example, entry $(A^T A)_{j,j}$ in $A^T A$ would take the following form:\n",
        "$$(A^T A)_{j,j} = \\begin{bmatrix} A_{1,j} & A_{2,j} &  A_{3,j} & . . . & A_{m,j} \\end{bmatrix} \\begin{bmatrix} A_{1,j} \\\\ A_{2,j} \\\\  A_{3,j} \\\\ . . . \\\\ A_{m,j}\\end{bmatrix}$$\n",
        "$$(A^T A)_{j,j} = \\begin{bmatrix} (A_{1,j})^2 + (A_{2,j})^2 +  (A_{3,j})^2 + . . . + (A_{m,j})^2 \\end{bmatrix}$$\n",
        "\n",
        "$(A^T A)_{j,j}$ thus represents the sum of the squares of the components of one column of $A$. $Tr(A^T A)$, the sum of the main diagonal of $A^T A$, thus represents the sum of the squares of the components for every column of $A$, and can be written as such: \n",
        "$$Tr(A^T A) = \\sum_{j=1}^{n}[(A_{1,j})^2 + (A_{2,j})^2 +  (A_{3,j})^2 + . . . + (A_{m,j})^2]$$\n",
        "$$Tr(A^T A) = \\sum_{j=1}^{n} \\sum_{i=1}^{m} (A_{i,j})^2 = \\sum_{i=1}^{m} \\sum_{j=1}^{n} (A_{i,j})^2$$\n",
        "$$\\sqrt{Tr(A^T A)} = \\sqrt{\\sum_{i=1}^{m} \\sum_{j=1}^{n} (A_{i,j})^2} = ||A||_F$$\n",
        "\n",
        "## Part (B)\n",
        "In part (a), we found that the Frobenius norm can be written as \n",
        "$$||A||_F = \\sqrt{Tr(A^T A)}$$\n",
        "\n",
        "Thus, \n",
        "$$||UA||_F = \\sqrt{Tr((UA)^T (UA))}$$\n",
        "\n",
        "We can manipulate this expression using the given properties of the Trace of a matrix as follows: \n",
        "$$||UA||_F = \\sqrt{Tr(A^T U^T U A)}$$\n",
        "$$||UA||_F = \\sqrt{Tr(A^T I A)}$$\n",
        "$$||UA||_F = \\sqrt{Tr(A^T A)}$$\n",
        "$$||UA||_F = ||A||_F$$\n",
        "\n",
        "Similar manipulations can be done to find $||AV||_F$:\n",
        "$$||AV||_F = \\sqrt{Tr((AV)^T (AV)}$$\n",
        "$$||AV||_F = \\sqrt{Tr(V^T A^T A V)}$$\n",
        "$$||AV||_F = \\sqrt{Tr(V^T V A^T A)}$$\n",
        "$$||AV||_F = \\sqrt{Tr(I A^T A)}$$\n",
        "$$||AV||_F = \\sqrt{Tr(A^T A)}$$\n",
        "$$||AV||_F = ||A||_F$$\n",
        "\n",
        "## Part (C)\n",
        "\n",
        "### Part (i)\n",
        "Given that $A = U \\Sigma V^T$, where $U$ is an orthogonal $m x m$ matrix, $V$ is an orthogonal $n x n$ matrix, and $\\Sigma$ is a diagonal matrix. Thus,\n",
        "$$||A||_F = \\sqrt{Tr((U \\Sigma V^T)^T (U \\Sigma V^T))}$$\n",
        "$$||A||_F = \\sqrt{Tr(V \\Sigma U^T U \\Sigma V^T)}$$\n",
        "$$||A||_F = \\sqrt{Tr(V V^T U^T U \\Sigma \\Sigma)}$$\n",
        "$$||A||_F = \\sqrt{Tr(I^2 \\Sigma^2)}$$\n",
        "$$||A||_F = \\sqrt{Tr(\\Sigma^2)}$$\n",
        "$$||A||_F = \\sqrt{\\sigma_1^2 + \\sigma_2^2 + \\sigma_3^2 + . . . + \\sigma_r^2}$$\n",
        "\n",
        "### Part (ii)\n",
        "$$\\sigma_{max}(A) \\leq ||A||_F \\leq \\sqrt{r}\\sigma_{max}(A)$$\n",
        "            \n",
        "In part (i), we showed that \n",
        "$$||A||_F = \\sqrt{\\sigma_1^2 + \\sigma_2^2 + \\sigma_3^2 + . . . + \\sigma_r^2}$$\n",
        "\n",
        "We can then expand and simplify the inequality we started with as follows: \n",
        "$$\\sigma_{max}(A) \\leq \\sqrt{\\sigma_1^2 + \\sigma_2^2 + \\sigma_3^2 + . . . + \\sigma_r^2} \\leq \\sqrt{r}\\sigma_{max}(A)$$\n",
        "$$\\sigma_{max}(A)^2 \\leq \\sigma_1^2 + \\sigma_2^2 + \\sigma_3^2 + . . . + \\sigma_r^2 \\leq r\\sigma_{max}(A)^2$$\n",
        "\n",
        "Without loss of generality, let $\\sigma_{max}(A) = \\sigma_1$. Then\n",
        "$$\\sigma_1^2 \\leq \\sigma_1^2 + \\sigma_2^2 + \\sigma_3^2 + . . . + \\sigma_r^2 \\leq r\\sigma_1^2$$\n",
        "$$0 \\leq \\sigma_2^2 + \\sigma_3^2 + . . . + \\sigma_r^2 \\leq (r-1)\\sigma_1^2$$\n",
        "\n",
        "Clearly, the middle expression of this inequality is less than or equal to the right, as it consists of $r-1$ terms, each of which is less than or equal to $\\sigma_1^2$. The inequality with which we started thus holds true. "
      ]
    },
    {
      "cell_type": "markdown",
      "metadata": {
        "id": "JDZ1qRi8wili"
      },
      "source": [
        "# Problem 5"
      ]
    },
    {
      "cell_type": "markdown",
      "metadata": {
        "id": "A53JYDfMwk83"
      },
      "source": [
        "Given the problem description, we define $||A||_2$ as follows: \n",
        "$$||A||_2 = max_{v \\neq 0} \\frac{||Av||_2}{||v||_2}$$\n",
        "\n",
        "If $v \\in \\mathbb{R}^n$, then \n",
        "$$v^T v = \\sum_{i=1}^n v_i^2$$\n",
        "\n",
        "Given the definition of $||v||_2$, \n",
        "$$||v||_2 = \\sqrt{\\sum_{i=1}^{n}|v_i|^2}$$\n",
        "\n",
        "we find that \n",
        "$$||v||_2 = v^T v$$\n",
        "\n",
        "If $A \\in \\mathbb{R}^{m \\times n}$, then $Av \\in \\mathbb{R}^m$, and we find that \n",
        "$$||A||_2 = max_{v \\neq 0} \\frac{\\sqrt{(Av)^T Av}}{\\sqrt{v^T v}} = max_{v \\neq 0} \\frac{\\sqrt{v^T A^T Av}}{\n",
        "\\sqrt{v^T v}}$$ \n",
        "\n",
        "$$||A||_2 = max_{v \\neq 0} \\sqrt{\\frac{v^T A^T Av}{v^T v}} = \\sqrt{max_{v \\neq 0} (\\frac{v^T A^T Av}{v^T v})}$$\n",
        "\n",
        "The expression\n",
        "$$\\frac{v^T A^T Av}{v^T v}$$\n",
        "\n",
        "is a Rayleigh Quotient of $A^T A$; thus,\n",
        "$$max_{v \\neq 0} (\\frac{v^T A^T Av}{v^T v})$$\n",
        "\n",
        "selects for the largest Rayleigh Quotient of $A^T A$, which is also the largest eigenvalue of $A^T A$. We can therefore rewrite $||A||_2$ as \n",
        "$$||A||_2 = \\sqrt{\\lambda_{max}}$$\n",
        "\n",
        "where $\\lambda_{max}$ is the largest eigenvalue of the matrix $A^T A$. "
      ]
    },
    {
      "cell_type": "markdown",
      "metadata": {
        "id": "SkmTjeK7eqZR"
      },
      "source": [
        "# References"
      ]
    },
    {
      "cell_type": "markdown",
      "metadata": {
        "id": "-MGgxfI2w9jZ"
      },
      "source": [
        "I referenced the following sources in completing this problem set: \n",
        "\n",
        "[Chen, Guangliang. \"Lecture 4: Rayleigh Quotients,\" San José State University](https://www.sjsu.edu/faculty/guangliang.chen/Math253S20/lec4RayleighQuotient.pdf)\n",
        "\n",
        "[Dahleh, Mohammed et al. \"Lectures on Dynamic Systems and Control,\" Department of Electrical Engineering and Computer Science Massachuasetts Institute of Technology](https://ocw.mit.edu/courses/electrical-engineering-and-computer-science/6-241j-dynamic-systems-and-control-spring-2011/readings/MIT6_241JS11_chap04.pdf)\n",
        "\n",
        "[\"Diagonalization of Symmetric Matrices,\" University of Illinois Math Department](https://faculty.math.illinois.edu/~franklan/Math415_Diagonalization.pdf)\n",
        "\n",
        "[Zaky, Zeyad. \"Rayleigh Quotient in 3 minutes!\"](https://www.youtube.com/watch?v=zhLyPJvcTIs&ab_channel=ZeyadZaky)"
      ]
    }
  ]
}